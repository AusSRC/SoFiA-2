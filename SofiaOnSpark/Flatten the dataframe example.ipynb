{
 "cells": [
  {
   "cell_type": "markdown",
   "metadata": {},
   "source": [
    "## Flatten a dataframe into a single row\n",
    "\n",
    "https://stackoverflow.com/questions/50556537/flatten-dataframe-into-a-single-row - actually, no - this is the Pandas solution.\n",
    "\n",
    "Try this instead -\n",
    "\n",
    "https://sparkbyexamples.com/spark/how-to-pivot-table-and-unpivot-a-spark-dataframe/"
   ]
  },
  {
   "cell_type": "code",
   "execution_count": 2,
   "metadata": {},
   "outputs": [
    {
     "data": {
      "text/html": [
       "\n",
       "        <div>\n",
       "            <p><b>SparkContext</b></p>\n",
       "\n",
       "            <p><a href=\"http://hercules-3.nimbus.pawsey.org.au:4040\">Spark UI</a></p>\n",
       "\n",
       "            <dl>\n",
       "              <dt>Version</dt>\n",
       "                <dd><code>v2.3.0.cloudera4</code></dd>\n",
       "              <dt>Master</dt>\n",
       "                <dd><code>yarn</code></dd>\n",
       "              <dt>AppName</dt>\n",
       "                <dd><code>pyspark-shell</code></dd>\n",
       "            </dl>\n",
       "        </div>\n",
       "        "
      ],
      "text/plain": [
       "<SparkContext master=yarn appName=pyspark-shell>"
      ]
     },
     "execution_count": 2,
     "metadata": {},
     "output_type": "execute_result"
    }
   ],
   "source": [
    "sc"
   ]
  },
  {
   "cell_type": "code",
   "execution_count": 3,
   "metadata": {},
   "outputs": [
    {
     "data": {
      "text/plain": [
       "<pyspark.sql.context.SQLContext at 0x7fbdc0d7cac8>"
      ]
     },
     "execution_count": 3,
     "metadata": {},
     "output_type": "execute_result"
    }
   ],
   "source": [
    "sqlContext"
   ]
  },
  {
   "cell_type": "code",
   "execution_count": 4,
   "metadata": {},
   "outputs": [
    {
     "name": "stdout",
     "output_type": "stream",
     "text": [
      "maindir is /home/hduser/.astropy/config\n",
      "maindir is /home/hduser/.astropy/config\n",
      "maindir is /home/hduser/.astropy/cache\n",
      "maindir is /home/hduser/.astropy/cache\n",
      "maindir is /home/hduser/.astropy/cache\n",
      "maindir is /home/hduser/.astropy/cache\n",
      "maindir is /home/hduser/.astropy/cache\n",
      "maindir is /home/hduser/.astropy/cache\n"
     ]
    }
   ],
   "source": [
    "import numpy as np # linear algebra\n",
    "import os\n",
    "import math\n",
    "import copy\n",
    "import random\n",
    "\n",
    "import time\n",
    "\n",
    "from pyspark.ml.feature import StringIndexer, StandardScaler,VectorAssembler\n",
    "from pyspark.ml import Pipeline\n",
    "\n",
    "from pyspark.sql import functions as F\n",
    "import pyspark.sql.functions as f\n",
    "\n",
    "from pyspark.sql.functions import udf, col\n",
    "from pyspark.ml.linalg import Vectors, VectorUDT, DenseVector\n",
    "\n",
    "from pyspark.sql.functions import rand\n",
    "from pyspark.sql.types import ArrayType, FloatType,IntegerType, DataType, DoubleType, MapType\n",
    "\n",
    "from pyspark.mllib.evaluation import MulticlassMetrics\n",
    "\n",
    "from astropy.io import fits\n",
    "from astropy.table import Table\n",
    "from astropy.visualization import astropy_mpl_style\n",
    "from astropy.wcs import WCS\n",
    "from astropy.coordinates import SkyCoord"
   ]
  },
  {
   "cell_type": "code",
   "execution_count": 5,
   "metadata": {},
   "outputs": [],
   "source": [
    "iType=IntegerType()\n",
    "dType=DoubleType()\n",
    "fType=FloatType()\n",
    "\n",
    "aType=ArrayType(fType)"
   ]
  },
  {
   "cell_type": "code",
   "execution_count": 6,
   "metadata": {},
   "outputs": [],
   "source": [
    "from time import time, clock\n",
    "class Timer:\n",
    "    \"\"\"\n",
    "    a simple class for printing time (s) since last call\n",
    "    \"\"\"\n",
    "    def __init__(self):\n",
    "        self.t0=time()\n",
    "        self.t1=clock()\n",
    "        self.elapsed = 1\n",
    "        self.elapsedCPU = 1\n",
    "    \n",
    "    def start(self):\n",
    "        self.t0=time()\n",
    "        self.t1=clock()\n",
    "        \n",
    "    def stop(self):\n",
    "        t1=time()\n",
    "        t2=clock()\n",
    "        print(\"Elapsed {:2.1f}s, CPU {:2.1f}s\".format(t1-self.t0, t2-self.t1))\n",
    "        self.elapsed = t1-self.t0\n",
    "        self.elapsedCPU = t2-self.t1\n",
    "\n",
    "timer=Timer()"
   ]
  },
  {
   "cell_type": "code",
   "execution_count": 7,
   "metadata": {},
   "outputs": [],
   "source": [
    "def GetDetailArrays(fitsFilename, raType, decType, spectraType):\n",
    "    sqlStmt=(\"\"\"\n",
    "        select sda_detail_array, sda_detail_type\n",
    "        from Sparkfits_detail_arrays\n",
    "        where sda_filename='{}'\n",
    "    \"\"\").format(fitsFilename)\n",
    "\n",
    "    detailsDF=sqlContext.sql(sqlStmt)\n",
    "    \n",
    "    raArray=np.array(detailsDF.filter(f.col(\"sda_detail_type\") == raType)\\\n",
    "                     .select(f.col(\"sda_detail_array\")).collect() )\n",
    "    raArray=raArray.reshape(raArray.shape[2])\n",
    "\n",
    "    decArray=np.array(detailsDF.filter(f.col(\"sda_detail_type\") == decType)\\\n",
    "                      .select(f.col(\"sda_detail_array\")).collect() )\n",
    "    decArray=decArray.reshape(decArray.shape[2])\n",
    "\n",
    "    spectraArray=np.array(detailsDF.filter(f.col(\"sda_detail_type\") == spectraType)\\\n",
    "                          .select(f.col(\"sda_detail_array\")).collect() )\n",
    "    spectraArray=spectraArray.reshape(spectraArray.shape[2])\n",
    "\n",
    "    return raArray, decArray, spectraArray"
   ]
  },
  {
   "cell_type": "code",
   "execution_count": 8,
   "metadata": {},
   "outputs": [],
   "source": [
    "def GetSubCube2(fitsFilename, decType,spectraType, raArray, decArray, spectraArray, CubeSize):\n",
    "    timer.start()\n",
    "    ## Extract our parameters\n",
    "    hiRa=CubeSize[0]\n",
    "    loRa=CubeSize[1]\n",
    "    hiDec=CubeSize[2]\n",
    "    loDec=CubeSize[3]\n",
    "    loFreq=CubeSize[4]\n",
    "    hiFreq=CubeSize[5]\n",
    "    \n",
    "    def CreateNewHeader():\n",
    "        return True\n",
    "    \n",
    "    global raSelectRange\n",
    "    raSelectRange=np.where(np.logical_and(raArray >= loRa, raArray <= hiRa ))\n",
    "    raSelectList=raSelectRange[0].tolist()\n",
    "    \n",
    "    raHeaderIndex=raArray[raSelectList[0]]\n",
    "    naxis1=len(raSelectList)\n",
    "    \n",
    "    #\n",
    "    # Now we need to create the array or actual RA values to pass into SoFiA\n",
    "    #\n",
    "    \n",
    "    raDF=sqlContext.sql(\"\"\"\n",
    "    with data as \n",
    "    (\n",
    "        select posexplode(sda_detail_array)\n",
    "        from sparkfits_detail_arrays\n",
    "        where sda_filename='image.restored.i.SB2338.V2.cube.fits'\n",
    "        and sda_detail_type='{}'\n",
    "    )\n",
    "    select pos as sda_index, float(col) as sda_ra from data\n",
    "\n",
    "    \"\"\".format(raType)      )\n",
    "    \n",
    "    raDF.filter((raDF.sda_ra <= hiRa ) & (raDF.sda_ra >= loRa )).registerTempTable(\"RA\")\n",
    "    \n",
    "    #\n",
    "    # This query pivots the independent RA values we want into a single list element we\n",
    "    # can include as a Spark Column\n",
    "    #\n",
    "    \n",
    "    filteredRaDF=sqlContext.sql(\"\"\"\n",
    "        with rawData as\n",
    "        (\n",
    "            select 1 grp,\n",
    "            map(\n",
    "\n",
    "                'sda_ra', sda_ra\n",
    "            ) as kv\n",
    "            from RA\n",
    "        )\n",
    "        select \n",
    "            grp,\n",
    "            collect_list(float(a.kv['sda_ra'])) as ra\n",
    "        from rawData a\n",
    "        group by grp\n",
    "    \"\"\")\n",
    "    \n",
    "    decDF=sqlContext.sql(\"\"\"\n",
    "    with data as \n",
    "    (\n",
    "        select posexplode(sda_detail_array)\n",
    "        from sparkfits_detail_arrays\n",
    "        where sda_filename='image.restored.i.SB2338.V2.cube.fits'\n",
    "        and sda_detail_type='{}'\n",
    "    )\n",
    "    select pos as sda_index, float(col) as sda_declination from data\n",
    "\n",
    "    \"\"\".format(decType)      )\n",
    "    \n",
    "    freqDF=sqlContext.sql(\"\"\"\n",
    "    with data as \n",
    "    (\n",
    "        select posexplode(sda_detail_array)\n",
    "        from sparkfits_detail_arrays\n",
    "        where sda_filename='image.restored.i.SB2338.V2.cube.fits'\n",
    "        and sda_detail_type='{}'\n",
    "    )\n",
    "    select pos as sda_index, float(col) as sda_Frequency_hz from data\n",
    "\n",
    "    \"\"\".format(spectraType)      )\n",
    "    \n",
    "\n",
    "    decFilterDF   = decDF.filter((decDF.sda_declination <= hiDec ) & (decDF.sda_declination >= loDec ))\n",
    "    freqFilterDF  = freqDF.filter((freqDF.sda_Frequency_hz <= hiFreq ) \\\n",
    "                              & (freqDF.sda_Frequency_hz >= loFreq ))\n",
    "\n",
    "    # decFilterDF.registerTempTable(\"DECLINATIONS\")\n",
    "    PositionDF=decFilterDF.crossJoin(filteredRaDF)\n",
    "    PositionDF.registerTempTable(\"POSITIONS\")\n",
    "    freqFilterDF.registerTempTable(\"FREQUENCIES\")\n",
    "\n",
    "    \n",
    "    decHeaderIndex=decFilterDF.groupby().max('sda_declination').collect()[0].asDict()['max(sda_declination)']\n",
    "    freqHeaderIndex=freqFilterDF.groupby().min('sda_Frequency_hz').collect()[0].asDict()['min(sda_Frequency_hz)']\n",
    "    naxis2=decFilterDF.count()\n",
    "    naxis4=freqFilterDF.count()\n",
    "    \n",
    "    myImageDF=sqlContext.sql(\"select * from sparkfits_images where spi_filename='{}' \".format(fitsFilename))\n",
    "    myImageDF.registerTempTable(\"IMAGES\")\n",
    "\n",
    "    subCubeSQLDF=sqlContext.sql(\"\"\"\n",
    "    select /*+ BROADCAST(POSITIONS), BROADCAST(FREQUENCIES) */\n",
    "    spi_index, POSITIONS.ra, POSITIONS.sda_declination, IMAGES.spi_image, \n",
    "    IMAGES.spi_filename, IMAGES.spi_band, FREQUENCIES.sda_Frequency_hz\n",
    "    from IMAGES\n",
    "        INNER JOIN FREQUENCIES\n",
    "            on IMAGES.spi_band == FREQUENCIES.sda_index\n",
    "        INNER JOIN POSITIONS\n",
    "            on IMAGES.spi_index == POSITIONS.sda_index\n",
    "\n",
    "        ORDER BY spi_band, spi_index\n",
    "    \"\"\" )#.explain() .format(hiFreq, loFreq, hiDec, loDec)\n",
    "    \n",
    "    # We still have to apply the Ra selectin criteria\n",
    "    \n",
    "    subCubeSQLDF=subCubeSQLDF\\\n",
    "    .withColumn(\"raSelectRange\", f.array(  [f.col(\"spi_image\")[i]  for i in raSelectList  ] ))\\\n",
    "    .select(\"spi_index\",\"ra\", \"sda_declination\",\"spi_image\",\"raSelectRange\",\"spi_filename\",\"spi_band\",\"sda_Frequency_hz\")\n",
    "    \n",
    "    print(\"Image dataframe created\")\n",
    "    \n",
    "    timer.stop()\n",
    "    \n",
    "    return subCubeSQLDF,raHeaderIndex,decHeaderIndex,freqHeaderIndex, naxis1,naxis2, naxis4"
   ]
  },
  {
   "cell_type": "code",
   "execution_count": 9,
   "metadata": {},
   "outputs": [],
   "source": [
    "start_elapsed=time()\n",
    "start_cpu=clock()"
   ]
  },
  {
   "cell_type": "code",
   "execution_count": 10,
   "metadata": {},
   "outputs": [
    {
     "data": {
      "text/plain": [
       "DataFrame[]"
      ]
     },
     "execution_count": 10,
     "metadata": {},
     "output_type": "execute_result"
    }
   ],
   "source": [
    "sqlContext.sql('use fits_investigation')"
   ]
  },
  {
   "cell_type": "code",
   "execution_count": 11,
   "metadata": {},
   "outputs": [
    {
     "name": "stdout",
     "output_type": "stream",
     "text": [
      "+--------------------+------------+-------+\n",
      "|            col_name|   data_type|comment|\n",
      "+--------------------+------------+-------+\n",
      "|           spi_index|         int|   null|\n",
      "|           spi_image|array<float>|   null|\n",
      "|        spi_filename|      string|   null|\n",
      "|            spi_band|         int|   null|\n",
      "|# Partition Infor...|            |       |\n",
      "|          # col_name|   data_type|comment|\n",
      "|        spi_filename|      string|   null|\n",
      "|            spi_band|         int|   null|\n",
      "+--------------------+------------+-------+\n",
      "\n"
     ]
    }
   ],
   "source": [
    "sqlContext.sql('desc sparkfits_images').show()"
   ]
  },
  {
   "cell_type": "code",
   "execution_count": 12,
   "metadata": {},
   "outputs": [],
   "source": [
    "#fitsFilename='residual.i.SB8170.cube.fits.NaNs.Removed'\n",
    "fitsFilename='image.restored.i.SB2338.V2.cube.fits'\n",
    "raType='RA---SIN'\n",
    "decType='DEC--SIN'\n",
    "spectraType='Hz'"
   ]
  },
  {
   "cell_type": "code",
   "execution_count": 13,
   "metadata": {},
   "outputs": [],
   "source": [
    "raArray, decArray, spectraArray = GetDetailArrays(fitsFilename, raType, decType, spectraType)"
   ]
  },
  {
   "cell_type": "code",
   "execution_count": 14,
   "metadata": {},
   "outputs": [
    {
     "name": "stdout",
     "output_type": "stream",
     "text": [
      "Range of Ra 337.9596862792969 to 328.57586669921875\n",
      "Range of Declination -42.05752944946289 to -48.32979202270508\n",
      "Frequency ranges in Hz - 1376499968.0 1424481536.0\n"
     ]
    }
   ],
   "source": [
    "print(\"Range of Ra {} to {}\".format( max(raArray), min(raArray)))\n",
    "print(\"Range of Declination {} to {}\".format( max(decArray), min(decArray)))\n",
    "print(\"Frequency ranges in {} - {} {}\".format(spectraType, min(spectraArray), max(spectraArray))) "
   ]
  },
  {
   "cell_type": "code",
   "execution_count": 15,
   "metadata": {},
   "outputs": [],
   "source": [
    "hiDec=-46.7\n",
    "loDec=-47.2\n",
    "hiRa=332.4\n",
    "loRa=331.4\n",
    "loFreq=spectraArray[7]\n",
    "hiFreq=spectraArray[12]\n",
    "\n",
    "CubeSize=[hiRa,loRa,hiDec,loDec,loFreq,hiFreq]"
   ]
  },
  {
   "cell_type": "code",
   "execution_count": 16,
   "metadata": {},
   "outputs": [
    {
     "name": "stdout",
     "output_type": "stream",
     "text": [
      "Image dataframe created\n",
      "Elapsed 3.3s, CPU 0.3s\n"
     ]
    }
   ],
   "source": [
    "subCubeDF,raHeaderIndex,decHeaderIndex,freqHeaderIndex,naxis1, naxis2, naxis4 \\\n",
    "=GetSubCube2(fitsFilename, decType,spectraType, raArray, decArray, spectraArray, CubeSize)"
   ]
  },
  {
   "cell_type": "code",
   "execution_count": 17,
   "metadata": {},
   "outputs": [],
   "source": [
    "if False:\n",
    "    subCubeDF.show()"
   ]
  },
  {
   "cell_type": "code",
   "execution_count": 18,
   "metadata": {},
   "outputs": [],
   "source": [
    "subCubeDF.registerTempTable(\"collatedImages\")"
   ]
  },
  {
   "cell_type": "code",
   "execution_count": 19,
   "metadata": {},
   "outputs": [],
   "source": [
    "if False:\n",
    "    timer.start()\n",
    "    subCubeDF.write.mode('overwrite').format('parquet').saveAsTable('collatedImages')\n",
    "    timer.stop()"
   ]
  },
  {
   "cell_type": "markdown",
   "metadata": {},
   "source": [
    "### NOTE!\n",
    "\n",
    "In order to maintain order when we construct the collect_lists, we need to use DISTRIBUTE BY to guarantee that all rowss for a particular frequency are routed to the same reducer; otherwise we can't guarantee that the order will be maintained.\n",
    "\n",
    "See https://stackoverflow.com/questions/45092576/how-to-use-order-by-with-collect-set-operation-in-hive\n",
    "\n",
    "#### REMEMBER!\n",
    "\n",
    "It's not a relational database where the ordering in usually implicit!"
   ]
  },
  {
   "cell_type": "markdown",
   "metadata": {},
   "source": [
    "### NOTE!\n",
    "\n",
    "Drop the temporary tables when you've finished with them to free up resources. \n",
    "\n",
    "For temporary views spark.catalog.dropTempView(\"df\") - these are the session scoped tables, ie. the ones we use in this notebook.\n",
    "\n",
    "For global views spark.catalog.dropGlobalTempView(\"df\")\n",
    "\n",
    "We can also free up resources for dataframes we have finished using, i.e. df.unpersist()"
   ]
  },
  {
   "cell_type": "code",
   "execution_count": 20,
   "metadata": {},
   "outputs": [],
   "source": [
    "compress1=sqlContext.sql(\"\"\"\n",
    "with rawData as\n",
    "(\n",
    "    select sda_Frequency_hz, spi_index, ra as rightAscension,\n",
    "    map(\n",
    "        \n",
    "        'dec', sda_declination\n",
    "    ) as kva,\n",
    "    map(\n",
    "        'pixels', raSelectRange\n",
    "    ) as kvi\n",
    "    from collatedImages\n",
    "    distribute by sda_Frequency_hz\n",
    "    sort by sda_Frequency_hz, spi_index\n",
    ")\n",
    "select \n",
    "    sda_Frequency_hz as frequency,rightAscension,\n",
    "    -- ntile(4) over (sort by sda_Frequency_hz) as bins,\n",
    "    collect_list(float(a.kva['dec']))as declination\n",
    "    ,collect_list(array(a.kvi['pixels']))as pixs\n",
    "from rawData a\n",
    "group by frequency, rightAscension\n",
    "\"\"\")\n",
    "\n",
    "if False:\n",
    "    compress1.show()\n",
    "\n",
    "compress1.registerTempTable(\"compress_one\")"
   ]
  },
  {
   "cell_type": "code",
   "execution_count": 21,
   "metadata": {},
   "outputs": [],
   "source": [
    "if False:\n",
    "    sqlContext.sql(\"\"\"\n",
    "    select * from compress_one\n",
    "    \"\"\").show()"
   ]
  },
  {
   "cell_type": "markdown",
   "metadata": {},
   "source": [
    "### Now, let's take it that one step further and compress those three frequencies into one row"
   ]
  },
  {
   "cell_type": "code",
   "execution_count": 22,
   "metadata": {},
   "outputs": [],
   "source": [
    "compress2=sqlContext.sql(\"\"\"\n",
    "select\n",
    "    --bins,\n",
    "    rightAscension, declination,\n",
    "    collect_list(array(float(a.kvi['frequencies']))) as frequencies,\n",
    "    collect_list(array(a.kva['pixs'])) as pixels\n",
    "from (\n",
    "    select\n",
    "        --bins,\n",
    "        rightAscension, declination,\n",
    "        map('frequencies', frequency) as kvi,\n",
    "        map('pixs', pixs) as kva\n",
    "    from compress_one\n",
    "    distribute by rightAscension\n",
    "    sort by frequency\n",
    ") a\n",
    "group by --bins,\n",
    "rightAscension, declination\n",
    "\"\"\")"
   ]
  },
  {
   "cell_type": "code",
   "execution_count": 23,
   "metadata": {},
   "outputs": [
    {
     "name": "stdout",
     "output_type": "stream",
     "text": [
      "root\n",
      " |-- rightAscension: array (nullable = true)\n",
      " |    |-- element: float (containsNull = true)\n",
      " |-- declination: array (nullable = true)\n",
      " |    |-- element: float (containsNull = true)\n",
      " |-- frequencies: array (nullable = true)\n",
      " |    |-- element: array (containsNull = true)\n",
      " |    |    |-- element: float (containsNull = true)\n",
      " |-- pixels: array (nullable = true)\n",
      " |    |-- element: array (containsNull = true)\n",
      " |    |    |-- element: array (containsNull = true)\n",
      " |    |    |    |-- element: array (containsNull = true)\n",
      " |    |    |    |    |-- element: array (containsNull = true)\n",
      " |    |    |    |    |    |-- element: float (containsNull = true)\n",
      "\n"
     ]
    }
   ],
   "source": [
    "compress2.printSchema()"
   ]
  },
  {
   "cell_type": "code",
   "execution_count": 24,
   "metadata": {},
   "outputs": [],
   "source": [
    "if False:\n",
    "    compress2.show()"
   ]
  },
  {
   "cell_type": "code",
   "execution_count": 25,
   "metadata": {},
   "outputs": [],
   "source": [
    "if False:\n",
    "    timer.start()\n",
    "    compress2.write.mode('overwrite').format('parquet').saveAsTable('compression_madness')\n",
    "    timer.stop()"
   ]
  },
  {
   "cell_type": "markdown",
   "metadata": {},
   "source": [
    "## Function to create a FITS file from the data\n",
    "\n",
    "This is the base unction that will be wrapped in a UDF to create a FITS file object on every row of the dataframe; when trhe UDF gets created, the input parameter inputDF will need to be changed to allow for the element from the dataframe."
   ]
  },
  {
   "cell_type": "code",
   "execution_count": 26,
   "metadata": {},
   "outputs": [],
   "source": [
    "def CreateFITSSubCube(inputDF, fitsFilename):\n",
    "    #\n",
    "    # Functions we need\n",
    "    #\n",
    "    def RetrieveHeader(hduData):\n",
    "        # Create header file\n",
    "\n",
    "        hdu=fits.PrimaryHDU()\n",
    "        hduHeader=hdu.header\n",
    "\n",
    "        def isFloat(string):\n",
    "            try:\n",
    "                float(string)\n",
    "                return True\n",
    "            except ValueError:\n",
    "                return False\n",
    "        for row in hduData.rdd.toLocalIterator():\n",
    "\n",
    "            if row.sfh_value=='True':\n",
    "                v=True\n",
    "            elif isFloat(row.sfh_value):\n",
    "                v=float(row.sfh_value)\n",
    "                pass\n",
    "            elif row.sfh_value.isnumeric():\n",
    "                v=int(row.sfh_value)\n",
    "                pass\n",
    "            else:\n",
    "                v=row.sfh_value\n",
    "            #print(row.key, v) #row.value, row.value.isnumeric(), isFloat(row.value), bool(row.value))\n",
    "            hduHeader[row.sfh_key] = (v, row.sfh_comment)\n",
    "            pass\n",
    "\n",
    "        return hduHeader\n",
    "    \n",
    "    def GetBaselineHeader(fitsFilename):\n",
    "        hduData=sqlContext.sql(\"\"\"\n",
    "            select * \n",
    "            from sparkfits_fits_headers\n",
    "            where sfh_fits_file='{}' \n",
    "            order by sfh_index\n",
    "        \"\"\".format(fitsFilename)\n",
    "        )\n",
    "        \n",
    "        retrievedHeader=RetrieveHeader(hduData)\n",
    "        return retrievedHeader\n",
    "    \n",
    "    def UpdateNewHeader(newheader, retrievedHeader, raIdx, decIdx, freqIdx):\n",
    "        def isFloat(string):\n",
    "            try:\n",
    "                float(string)\n",
    "                return True\n",
    "            except ValueError:\n",
    "                return False\n",
    "\n",
    "        for i in np.arange(len(retrievedHeader)):\n",
    "            try:\n",
    "                newheader[list(retrievedHeader.keys())[i]]\n",
    "                # print(\"Exists!\", list(jheader.keys())[i], jheader[int(i)],  jheader.comments[int(i)])\n",
    "            except Exception as e:\n",
    "                # print(list(header.keys())[i], header[int(i)],  header.comments[int(i)])\n",
    "                jkey = list(retrievedHeader.keys())[i]\n",
    "\n",
    "                if isFloat(retrievedHeader[int(i)]):\n",
    "                    jval=float(retrievedHeader[int(i)])\n",
    "                    pass\n",
    "                elif retrievedHeader[int(i)].isnumeric():\n",
    "                    jval=int(row.value)\n",
    "                    pass\n",
    "                else:\n",
    "                    jval = retrievedHeader[int(i)]\n",
    "\n",
    "\n",
    "                jcom = retrievedHeader.comments[int(i)]\n",
    "\n",
    "                newheader[jkey] = (jval, jcom)\n",
    "                \n",
    "        wcs=WCS(retrievedHeader)\n",
    "        crpix1,crpix2,crpix3,crpix4=wcs.wcs_world2pix(raIdx,decIdx ,1, freqIdx,1, ra_dec_order=True)\n",
    "\n",
    "        newheader['CRPIX1']=float(crpix1)\n",
    "        newheader['CRPIX2']=float(crpix2)\n",
    "        newheader['CRPIX3']=float(1.0)\n",
    "        newheader['CRPIX4']=float(crpix4)\n",
    "\n",
    "        return newheader\n",
    "        \n",
    "    \n",
    "    #\n",
    "    # Collect the arrays from the dataframe\n",
    "    #\n",
    "    timer.start()\n",
    "    print(\"Commencing data extraction from dataframe...\")\n",
    "    \n",
    "    ra=np.array(inputDF.select('rightAscension').collect(), dtype='float64')\n",
    "    declination=np.array(inputDF.select('declination').collect(), dtype='float64') #.reshape(r,sequence_len)\n",
    "    frequencies=np.array(inputDF.select('frequencies').collect(), dtype='float64') #.reshape(r,sequence_len)\n",
    "    pixels=np.array(inputDF.select('pixels').collect(), dtype='float64')\n",
    "    \n",
    "    #\n",
    "    # Reshape the pixels array to the 3 dimensional numpy array\n",
    "    #\n",
    "    print(\"Pixels old shape\")\n",
    "    print(pixels.shape)\n",
    "    pixels=pixels.reshape(pixels.shape[2], pixels.shape[3], pixels.shape[4], pixels.shape[6])\n",
    "    print(\"Pixels new shape\")\n",
    "    print(pixels.shape)\n",
    "    print(\"Data extracted from dataframe\")\n",
    "    timer.stop()\n",
    "    \n",
    "    \n",
    "    #\n",
    "    # Create the corner pixel indexes for the new header\n",
    "    #\n",
    "    timer.start()\n",
    "    raHeaderIndex=ra[0][0][0]\n",
    "    decHeaderIndex=declination[0][0][0]\n",
    "    freqHeaderIndex=frequencies[0][0][0][0]\n",
    "    \n",
    "    print(\"New position indexes created\")\n",
    "    timer.stop()\n",
    "    #\n",
    "    # Create the new FITS object\n",
    "    #\n",
    "    timer.start()\n",
    "    newhdu=fits.PrimaryHDU(data=pixels)\n",
    "    newheader=newhdu.header\n",
    "    \n",
    "    print(\"new base fits object created\")\n",
    "    timer.stop()\n",
    "    #\n",
    "    # Get the baseline header\n",
    "    #\n",
    "    timer.start()\n",
    "    baselineHeader=GetBaselineHeader(fitsFilename)\n",
    "    print(\"baseline header extracted\")\n",
    "    timer.stop()\n",
    "    \n",
    "    #\n",
    "    # Create the new header\n",
    "    #\n",
    "    \n",
    "    timer.start()\n",
    "    newHeader=UpdateNewHeader(newheader, baselineHeader, raHeaderIndex, decHeaderIndex, freqHeaderIndex)\n",
    "    print(\"new header created\")\n",
    "    timer.stop()\n",
    "    \n",
    "    #\n",
    "    # Return the new FITS object\n",
    "    #\n",
    "    \n",
    "    return newhdu"
   ]
  },
  {
   "cell_type": "code",
   "execution_count": 26,
   "metadata": {},
   "outputs": [
    {
     "name": "stdout",
     "output_type": "stream",
     "text": [
      "Commencing data extraction from dataframe...\n",
      "Pixels old shape\n",
      "(1, 1, 6, 1, 451, 1, 597)\n",
      "Pixels new shape\n",
      "(6, 1, 451, 597)\n",
      "Data extracted from dataframe\n",
      "Elapsed 274.4s, CPU 0.2s\n",
      "New position indexes created\n",
      "Elapsed 0.0s, CPU 0.0s\n",
      "new base fits object created\n",
      "Elapsed 0.0s, CPU 0.0s\n",
      "baseline header extracted\n",
      "Elapsed 4.4s, CPU 0.0s\n",
      "new header created\n",
      "Elapsed 0.1s, CPU 0.1s\n"
     ]
    },
    {
     "name": "stderr",
     "output_type": "stream",
     "text": [
      "WARNING: FITSFixedWarning: PC01_01 = 1.0 \n",
      "indices in parameterized keywords must not have leading zeroes. [astropy.wcs.wcs]\n",
      "WARNING: FITSFixedWarning: PC02_01 = 0.0 \n",
      "indices in parameterized keywords must not have leading zeroes. [astropy.wcs.wcs]\n",
      "WARNING: FITSFixedWarning: PC03_01 = 0.0 \n",
      "indices in parameterized keywords must not have leading zeroes. [astropy.wcs.wcs]\n",
      "WARNING: FITSFixedWarning: PC04_01 = 0.0 \n",
      "indices in parameterized keywords must not have leading zeroes. [astropy.wcs.wcs]\n",
      "WARNING: FITSFixedWarning: PC01_02 = 0.0 \n",
      "indices in parameterized keywords must not have leading zeroes. [astropy.wcs.wcs]\n",
      "WARNING: FITSFixedWarning: PC02_02 = 1.0 \n",
      "indices in parameterized keywords must not have leading zeroes. [astropy.wcs.wcs]\n",
      "WARNING: FITSFixedWarning: PC03_02 = 0.0 \n",
      "indices in parameterized keywords must not have leading zeroes. [astropy.wcs.wcs]\n",
      "WARNING: FITSFixedWarning: PC04_02 = 0.0 \n",
      "indices in parameterized keywords must not have leading zeroes. [astropy.wcs.wcs]\n",
      "WARNING: FITSFixedWarning: PC01_03 = 0.0 \n",
      "indices in parameterized keywords must not have leading zeroes. [astropy.wcs.wcs]\n",
      "WARNING: FITSFixedWarning: PC02_03 = 0.0 \n",
      "indices in parameterized keywords must not have leading zeroes. [astropy.wcs.wcs]\n",
      "WARNING: FITSFixedWarning: PC03_03 = 1.0 \n",
      "indices in parameterized keywords must not have leading zeroes. [astropy.wcs.wcs]\n",
      "WARNING: FITSFixedWarning: PC04_03 = 0.0 \n",
      "indices in parameterized keywords must not have leading zeroes. [astropy.wcs.wcs]\n",
      "WARNING: FITSFixedWarning: PC01_04 = 0.0 \n",
      "indices in parameterized keywords must not have leading zeroes. [astropy.wcs.wcs]\n",
      "WARNING: FITSFixedWarning: PC02_04 = 0.0 \n",
      "indices in parameterized keywords must not have leading zeroes. [astropy.wcs.wcs]\n",
      "WARNING: FITSFixedWarning: PC03_04 = 0.0 \n",
      "indices in parameterized keywords must not have leading zeroes. [astropy.wcs.wcs]\n",
      "WARNING: FITSFixedWarning: PC04_04 = 1.0 \n",
      "indices in parameterized keywords must not have leading zeroes. [astropy.wcs.wcs]\n",
      "WARNING: FITSFixedWarning: VELREF = 2.0 / 1 LSR, 2 HEL, 3 OBS, +256 Radio \n",
      "invalid keyvalue. [astropy.wcs.wcs]\n"
     ]
    }
   ],
   "source": [
    "newFITS=CreateFITSSubCube(compress2, fitsFilename)"
   ]
  },
  {
   "cell_type": "code",
   "execution_count": 27,
   "metadata": {},
   "outputs": [
    {
     "data": {
      "text/plain": [
       "SIMPLE  =                    T / conforms to FITS standard                      \n",
       "BITPIX  =                  -64 / array data type                                \n",
       "NAXIS   =                    4 / number of array dimensions                     \n",
       "NAXIS1  =                  597                                                  \n",
       "NAXIS2  =                  451                                                  \n",
       "NAXIS3  =                    1                                                  \n",
       "NAXIS4  =                    6                                                  \n",
       "EXTEND  =                    T                                                  \n",
       "BSCALE  =                  1.0 / PHYSICAL = PIXEL*BSCALE + BZERO                \n",
       "BZERO   =                  0.0                                                  \n",
       "BUNIT   = 'Jy/beam '           / Brightness (pixel) unit                        \n",
       "EQUINOX =               2000.0                                                  \n",
       "RADESYS = 'FK5     '                                                            \n",
       "LONPOLE =                180.0                                                  \n",
       "LATPOLE =      -44.83073888889                                                  \n",
       "PC01_01 =                  1.0                                                  \n",
       "PC02_01 =                  0.0                                                  \n",
       "PC03_01 =                  0.0                                                  \n",
       "PC04_01 =                  0.0                                                  \n",
       "PC01_02 =                  0.0                                                  \n",
       "PC02_02 =                  1.0                                                  \n",
       "PC03_02 =                  0.0                                                  \n",
       "PC04_02 =                  0.0                                                  \n",
       "PC01_03 =                  0.0                                                  \n",
       "PC02_03 =                  0.0                                                  \n",
       "PC03_03 =                  1.0                                                  \n",
       "PC04_03 =                  0.0                                                  \n",
       "PC01_04 =                  0.0                                                  \n",
       "PC02_04 =                  0.0                                                  \n",
       "PC03_04 =                  0.0                                                  \n",
       "PC04_04 =                  1.0                                                  \n",
       "CTYPE1  = 'RA---SIN'                                                            \n",
       "CRVAL1  =       332.6475708333                                                  \n",
       "CDELT1  =   -0.001111111111111                                                  \n",
       "CRPIX1  =    3328.019167768344                                                  \n",
       "CUNIT1  = 'deg     '                                                            \n",
       "CTYPE2  = 'DEC--SIN'                                                            \n",
       "CRVAL2  =      -44.83073888889                                                  \n",
       "CDELT2  =    0.001111111111111                                                  \n",
       "CRPIX2  =    1569.386202465553                                                  \n",
       "CUNIT2  = 'deg     '                                                            \n",
       "CTYPE3  = 'STOKES  '                                                            \n",
       "CRVAL3  =                  1.0                                                  \n",
       "CDELT3  =                  1.0                                                  \n",
       "CRPIX3  =                  1.0                                                  \n",
       "CUNIT3  = ''                                                                    \n",
       "CTYPE4  = 'FREQ    '                                                            \n",
       "CRVAL4  =       1376500000.056                                                  \n",
       "CDELT4  =       18518.51799989                                                  \n",
       "CRPIX4  =   -74330.00208473358                                                  \n",
       "CUNIT4  = 'Hz      '                                                            \n",
       "PV2_1   =                  0.0                                                  \n",
       "PV2_2   =                  0.0                                                  \n",
       "RESTFRQ =       1420405751.786 / Rest Frequency (Hz)                            \n",
       "SPECSYS = 'BARYCENT'           / Spectral reference frame                       \n",
       "ALTRVAL =       9562377.937478 / Alternate frequency reference value            \n",
       "ALTRPIX =                  1.0 / Alternate frequency reference pixel            \n",
       "VELREF  =                  2.0 / 1 LSR, 2 HEL, 3 OBS, +256 Radio                \n",
       "DATE    = '2019-02-04T15:52:09.925000' / Date FITS file was written             \n",
       "TIMESYS = 'UTC     '           / Time system for HDU                            \n",
       "ORIGIN  = 'ASKAPSoft'                                                           \n",
       "TELESCOP= 'ASKAP   '                                                            \n",
       "PROJECT = 'AS035   '                                                            \n",
       "SBID    =               2338.0                                                  \n",
       "DATE-OBS= '2016-10-18T06:21:28.5'                                               \n",
       "DURATION=              43207.2                                                  \n",
       "COMMENT casacore non-standard usage: 4 LSD, 5 GEO, 6 SOU, 7 GAL                 \n",
       "HISTORY Produced with ASKAPsoft version ,                                       "
      ]
     },
     "execution_count": 27,
     "metadata": {},
     "output_type": "execute_result"
    }
   ],
   "source": [
    "newFITS.header"
   ]
  },
  {
   "cell_type": "code",
   "execution_count": 27,
   "metadata": {},
   "outputs": [
    {
     "name": "stdout",
     "output_type": "stream",
     "text": [
      "41.713807344436646\n"
     ]
    }
   ],
   "source": [
    "end_elapsed=time()\n",
    "end_cpu=clock()\n",
    "\n",
    "print(end_elapsed - start_elapsed)"
   ]
  },
  {
   "cell_type": "code",
   "execution_count": null,
   "metadata": {},
   "outputs": [],
   "source": [
    "compress2.show()"
   ]
  },
  {
   "cell_type": "markdown",
   "metadata": {},
   "source": [
    "## Function to create the new header as a dictionary object\n",
    "\n",
    "So we can pass this in to the UDF"
   ]
  },
  {
   "cell_type": "code",
   "execution_count": 77,
   "metadata": {},
   "outputs": [],
   "source": [
    "def createHeaderDictionary(fitsFilename):\n",
    "    hduData=sqlContext.sql(\"\"\"\n",
    "        select sfh_key, sfh_value \n",
    "        from sparkfits_fits_headers\n",
    "        where sfh_fits_file='{}' \n",
    "        order by sfh_index\n",
    "    \"\"\".format(fitsFilename)\n",
    "    )\n",
    "\n",
    "    headerDict=hduData.rdd.collectAsMap()\n",
    "    \n",
    "    return hduData , headerDict"
   ]
  },
  {
   "cell_type": "code",
   "execution_count": 79,
   "metadata": {},
   "outputs": [],
   "source": [
    "#xDict , \n",
    "\n",
    "hduData, xDict = createHeaderDictionary(fitsFilename)"
   ]
  },
  {
   "cell_type": "code",
   "execution_count": 81,
   "metadata": {},
   "outputs": [],
   "source": [
    "hduData.registerTempTable(\"headers\")"
   ]
  },
  {
   "cell_type": "code",
   "execution_count": 82,
   "metadata": {},
   "outputs": [
    {
     "name": "stdout",
     "output_type": "stream",
     "text": [
      "+-------+---------------+\n",
      "|sfh_key|      sfh_value|\n",
      "+-------+---------------+\n",
      "| SIMPLE|           True|\n",
      "| BITPIX|            -32|\n",
      "|  NAXIS|              4|\n",
      "| NAXIS1|           5607|\n",
      "| NAXIS2|           5654|\n",
      "| NAXIS3|              1|\n",
      "| NAXIS4|           2592|\n",
      "| BSCALE|            1.0|\n",
      "|  BZERO|            0.0|\n",
      "|  BUNIT|        Jy/beam|\n",
      "|EQUINOX|         2000.0|\n",
      "|RADESYS|            FK5|\n",
      "|LONPOLE|          180.0|\n",
      "|LATPOLE|-44.83073888889|\n",
      "|PC01_01|            1.0|\n",
      "|PC02_01|            0.0|\n",
      "|PC03_01|            0.0|\n",
      "|PC04_01|            0.0|\n",
      "|PC01_02|            0.0|\n",
      "|PC02_02|            1.0|\n",
      "+-------+---------------+\n",
      "only showing top 20 rows\n",
      "\n"
     ]
    }
   ],
   "source": [
    "sqlContext.sql(\"\"\"\n",
    "select * from headers\n",
    "\"\"\").show()"
   ]
  },
  {
   "cell_type": "code",
   "execution_count": 84,
   "metadata": {},
   "outputs": [],
   "source": [
    "sqlContext.sql(\"\"\"\n",
    "    select 1 as grp, sfh_index, sfh_key, sfh_value \n",
    "    from sparkfits_fits_headers\n",
    "    where sfh_fits_file='{}' \n",
    "    order by sfh_index\n",
    "\"\"\".format(fitsFilename)\n",
    ").registerTempTable(\"headers\")"
   ]
  },
  {
   "cell_type": "code",
   "execution_count": 85,
   "metadata": {},
   "outputs": [
    {
     "name": "stdout",
     "output_type": "stream",
     "text": [
      "+---+---------+-------+---------------+\n",
      "|grp|sfh_index|sfh_key|      sfh_value|\n",
      "+---+---------+-------+---------------+\n",
      "|  1|        0| SIMPLE|           True|\n",
      "|  1|        1| BITPIX|            -32|\n",
      "|  1|        2|  NAXIS|              4|\n",
      "|  1|        3| NAXIS1|           5607|\n",
      "|  1|        4| NAXIS2|           5654|\n",
      "|  1|        5| NAXIS3|              1|\n",
      "|  1|        6| NAXIS4|           2592|\n",
      "|  1|        7| BSCALE|            1.0|\n",
      "|  1|        8|  BZERO|            0.0|\n",
      "|  1|       10|  BUNIT|        Jy/beam|\n",
      "|  1|       11|EQUINOX|         2000.0|\n",
      "|  1|       12|RADESYS|            FK5|\n",
      "|  1|       13|LONPOLE|          180.0|\n",
      "|  1|       14|LATPOLE|-44.83073888889|\n",
      "|  1|       15|PC01_01|            1.0|\n",
      "|  1|       16|PC02_01|            0.0|\n",
      "|  1|       17|PC03_01|            0.0|\n",
      "|  1|       18|PC04_01|            0.0|\n",
      "|  1|       19|PC01_02|            0.0|\n",
      "|  1|       20|PC02_02|            1.0|\n",
      "+---+---------+-------+---------------+\n",
      "only showing top 20 rows\n",
      "\n"
     ]
    }
   ],
   "source": [
    "sqlContext.sql(\"\"\"\n",
    "--desc sparkfits_fits_headers\n",
    "select * from headers\n",
    "\"\"\").show()"
   ]
  },
  {
   "cell_type": "code",
   "execution_count": 92,
   "metadata": {},
   "outputs": [
    {
     "name": "stdout",
     "output_type": "stream",
     "text": [
      "+--------------------+--------------------+\n",
      "|                keys|              values|\n",
      "+--------------------+--------------------+\n",
      "|[SIMPLE, BITPIX, ...|[True, -32, 4, 56...|\n",
      "+--------------------+--------------------+\n",
      "\n"
     ]
    }
   ],
   "source": [
    "originalHeader=sqlContext.sql(\"\"\"\n",
    "with rawData as\n",
    "(\n",
    "    select grp, sfh_index, \n",
    "    map(\n",
    "        \n",
    "        'key', sfh_key\n",
    "    ) as kva,\n",
    "    map(\n",
    "        'value', sfh_value\n",
    "    ) as kvi\n",
    "    from headers\n",
    "    distribute by grp\n",
    "    sort by grp, sfh_index\n",
    ")\n",
    "select \n",
    "    grp,\n",
    "    collect_list(string(a.kva['key']))as keys\n",
    "    ,collect_list(string(a.kvi['value']))as values\n",
    "from rawData a\n",
    "group by grp\n",
    "\"\"\").select(\"keys\",\"values\")\n",
    "\n",
    "originalHeader.show()"
   ]
  },
  {
   "cell_type": "code",
   "execution_count": 94,
   "metadata": {},
   "outputs": [],
   "source": [
    "compress3 = compress2.crossJoin(originalHeader)"
   ]
  },
  {
   "cell_type": "code",
   "execution_count": 95,
   "metadata": {},
   "outputs": [
    {
     "name": "stdout",
     "output_type": "stream",
     "text": [
      "root\n",
      " |-- rightAscension: array (nullable = true)\n",
      " |    |-- element: float (containsNull = true)\n",
      " |-- declination: array (nullable = true)\n",
      " |    |-- element: float (containsNull = true)\n",
      " |-- frequencies: array (nullable = true)\n",
      " |    |-- element: array (containsNull = true)\n",
      " |    |    |-- element: float (containsNull = true)\n",
      " |-- pixels: array (nullable = true)\n",
      " |    |-- element: array (containsNull = true)\n",
      " |    |    |-- element: array (containsNull = true)\n",
      " |    |    |    |-- element: array (containsNull = true)\n",
      " |    |    |    |    |-- element: array (containsNull = true)\n",
      " |    |    |    |    |    |-- element: float (containsNull = true)\n",
      " |-- keys: array (nullable = true)\n",
      " |    |-- element: string (containsNull = true)\n",
      " |-- values: array (nullable = true)\n",
      " |    |-- element: string (containsNull = true)\n",
      "\n"
     ]
    }
   ],
   "source": [
    "compress3.printSchema()"
   ]
  },
  {
   "cell_type": "code",
   "execution_count": 104,
   "metadata": {},
   "outputs": [],
   "source": [
    "def CreateFITSSubCubeUDF(ra, decl, freq, pixels, keys, values, fitsFilename):    \n",
    "    #\n",
    "    # Functions we need\n",
    "    #\n",
    "    #\n",
    "    # Collect the arrays from the dataframe\n",
    "    #\n",
    "    timer.start()\n",
    "    print(\"Commencing data extraction from dataframe...\")\n",
    "    \n",
    "    ra=np.array(ra, dtype='float64')\n",
    "    declination=np.array(decl, dtype='float64') #.reshape(r,sequence_len)\n",
    "    frequencies=np.array(freq, dtype='float64') #.reshape(r,sequence_len)\n",
    "    pixels=np.array(pixels, dtype='float64')\n",
    "    keys=np.array(keys, dtype='str')\n",
    "    values=np.array(values, dtype='str')\n",
    "    \n",
    "    #\n",
    "    # Reshape the pixels array to the 3 dimensional numpy array\n",
    "    #\n",
    "    pixels=pixels.reshape(pixels.shape[0], pixels.shape[1], pixels.shape[2], pixels.shape[4])\n",
    "    print(\"Data extracted from dataframe\")\n",
    "    timer.stop()\n",
    "    \n",
    "    \n",
    "    #\n",
    "    # Create the corner pixel indexes for the new header\n",
    "    #\n",
    "    timer.start()\n",
    "    raHeaderIndex=ra[0]\n",
    "    decHeaderIndex=declination[0]\n",
    "    freqHeaderIndex=frequencies[0]\n",
    "    \n",
    "    print(\"New position indexes created\")\n",
    "    timer.stop()\n",
    "    #\n",
    "    # Create the new FITS object\n",
    "    #\n",
    "    timer.start()\n",
    "    newhdu=fits.PrimaryHDU(data=pixels)\n",
    "    #newheader=newhdu.header\n",
    "    \n",
    "    print(\"new base fits object created\")\n",
    "    timer.stop()\n",
    "    #\n",
    "    # Get the baseline header\n",
    "    #\n",
    "    timer.start()\n",
    "    #baselineHeader=GetBaselineHeader(fitsFilename)\n",
    "    print(\"baseline header extracted\")\n",
    "    timer.stop()\n",
    "    \n",
    "    #\n",
    "    # Create the new header\n",
    "    #\n",
    "    \n",
    "    timer.start()\n",
    "    #newHeader=UpdateNewHeader(newheader, baselineHeader, raHeaderIndex, decHeaderIndex, freqHeaderIndex)\n",
    "    print(\"new header created\")\n",
    "    timer.stop()\n",
    "    \n",
    "    #\n",
    "    # Return the new FITS object\n",
    "    #\n",
    "    \n",
    "    return len(keys) #len(ra) #newhdu\n",
    "    \n",
    "    \n",
    "    \n",
    "    \n",
    "    \n",
    "    "
   ]
  },
  {
   "cell_type": "code",
   "execution_count": 105,
   "metadata": {},
   "outputs": [],
   "source": [
    "from pyspark.sql.types import MapType\n",
    "test = udf(CreateFITSSubCubeUDF, ArrayType(IntegerType() ) )"
   ]
  },
  {
   "cell_type": "code",
   "execution_count": 106,
   "metadata": {},
   "outputs": [],
   "source": [
    "dfout=compress3.withColumn('calc_mod', test(compress3.rightAscension, \\\n",
    "                                           compress3.declination, \\\n",
    "                                           compress3.frequencies, \\\n",
    "                                           compress3.pixels, \\\n",
    "                                           compress3.keys, \\\n",
    "                                           compress3.values, \\\n",
    "                                           f.lit(fitsFilename))).select('calc_mod')"
   ]
  },
  {
   "cell_type": "code",
   "execution_count": 107,
   "metadata": {},
   "outputs": [
    {
     "name": "stdout",
     "output_type": "stream",
     "text": [
      "+--------+\n",
      "|calc_mod|\n",
      "+--------+\n",
      "|    null|\n",
      "+--------+\n",
      "\n"
     ]
    }
   ],
   "source": [
    "dfout.show()"
   ]
  },
  {
   "cell_type": "code",
   "execution_count": 35,
   "metadata": {},
   "outputs": [],
   "source": [
    "d={}"
   ]
  },
  {
   "cell_type": "code",
   "execution_count": 36,
   "metadata": {},
   "outputs": [
    {
     "data": {
      "text/plain": [
       "{}"
      ]
     },
     "execution_count": 36,
     "metadata": {},
     "output_type": "execute_result"
    }
   ],
   "source": [
    "d"
   ]
  },
  {
   "cell_type": "code",
   "execution_count": null,
   "metadata": {},
   "outputs": [],
   "source": [
    "newFITS.writeto('hdfs:///user/hduser/sofiaTest.fits')"
   ]
  },
  {
   "cell_type": "code",
   "execution_count": 5,
   "metadata": {},
   "outputs": [
    {
     "name": "stdout",
     "output_type": "stream",
     "text": [
      "38.26019620895386\n"
     ]
    }
   ],
   "source": [
    "print(tm.time()-start_elapsed)"
   ]
  },
  {
   "cell_type": "code",
   "execution_count": 33,
   "metadata": {},
   "outputs": [
    {
     "data": {
      "text/plain": [
       "(1, 1, 3, 1)"
      ]
     },
     "execution_count": 33,
     "metadata": {},
     "output_type": "execute_result"
    }
   ],
   "source": [
    "frequencies.shape"
   ]
  },
  {
   "cell_type": "code",
   "execution_count": 79,
   "metadata": {},
   "outputs": [],
   "source": []
  },
  {
   "cell_type": "code",
   "execution_count": 80,
   "metadata": {},
   "outputs": [
    {
     "data": {
      "text/plain": [
       "(1, 1, 3, 1, 451, 1, 597)"
      ]
     },
     "execution_count": 80,
     "metadata": {},
     "output_type": "execute_result"
    }
   ],
   "source": [
    "pixels.shape\n"
   ]
  },
  {
   "cell_type": "code",
   "execution_count": 81,
   "metadata": {},
   "outputs": [],
   "source": []
  },
  {
   "cell_type": "code",
   "execution_count": 82,
   "metadata": {},
   "outputs": [
    {
     "data": {
      "text/plain": [
       "(3, 1, 451, 597)"
      ]
     },
     "execution_count": 82,
     "metadata": {},
     "output_type": "execute_result"
    }
   ],
   "source": [
    "pixels.shape"
   ]
  },
  {
   "cell_type": "code",
   "execution_count": 37,
   "metadata": {},
   "outputs": [
    {
     "name": "stdout",
     "output_type": "stream",
     "text": [
      "maindir is /home/hduser/.astropy/config\n",
      "maindir is /home/hduser/.astropy/config\n",
      "maindir is /home/hduser/.astropy/cache\n",
      "maindir is /home/hduser/.astropy/cache\n",
      "maindir is /home/hduser/.astropy/cache\n",
      "maindir is /home/hduser/.astropy/cache\n",
      "maindir is /home/hduser/.astropy/cache\n",
      "maindir is /home/hduser/.astropy/cache\n"
     ]
    }
   ],
   "source": [
    "from astropy.io import fits\n",
    "from astropy.table import Table\n",
    "from astropy.visualization import astropy_mpl_style\n",
    "from astropy.wcs import WCS\n",
    "from astropy.coordinates import SkyCoord"
   ]
  },
  {
   "cell_type": "code",
   "execution_count": 83,
   "metadata": {},
   "outputs": [],
   "source": []
  },
  {
   "cell_type": "code",
   "execution_count": 84,
   "metadata": {},
   "outputs": [
    {
     "data": {
      "text/plain": [
       "SIMPLE  =                    T / conforms to FITS standard                      \n",
       "BITPIX  =                  -32 / array data type                                \n",
       "NAXIS   =                    4 / number of array dimensions                     \n",
       "NAXIS1  =                  597                                                  \n",
       "NAXIS2  =                  451                                                  \n",
       "NAXIS3  =                    1                                                  \n",
       "NAXIS4  =                    3                                                  \n",
       "EXTEND  =                    T                                                  "
      ]
     },
     "execution_count": 84,
     "metadata": {},
     "output_type": "execute_result"
    }
   ],
   "source": [
    "newheader"
   ]
  },
  {
   "cell_type": "code",
   "execution_count": 45,
   "metadata": {},
   "outputs": [
    {
     "data": {
      "text/plain": [
       "451"
      ]
     },
     "execution_count": 45,
     "metadata": {},
     "output_type": "execute_result"
    }
   ],
   "source": [
    "len(declination[0][0])"
   ]
  },
  {
   "cell_type": "code",
   "execution_count": 85,
   "metadata": {},
   "outputs": [
    {
     "name": "stdout",
     "output_type": "stream",
     "text": [
      "Elapsed 6.1s, CPU 0.0s\n"
     ]
    }
   ],
   "source": [
    "timer.start()\n",
    "\n",
    "sqlStmt=(\"\"\"\n",
    "        select * \n",
    "        from sparkfits_fits_headers\n",
    "        where sfh_fits_file='{}' \n",
    "        order by sfh_index\n",
    "    \"\"\".format(fitsFilename)\n",
    "        )\n",
    "\n",
    "hduData=sqlContext.sql(sqlStmt)\n",
    "def RetrieveHeader(hduData):\n",
    "    # Create header file\n",
    "\n",
    "    hdu=fits.PrimaryHDU()\n",
    "    hduHeader=hdu.header\n",
    "\n",
    "    def isFloat(string):\n",
    "        try:\n",
    "            float(string)\n",
    "            return True\n",
    "        except ValueError:\n",
    "            return False\n",
    "    for row in hduData.rdd.toLocalIterator():\n",
    "\n",
    "        if row.sfh_value=='True':\n",
    "            v=True\n",
    "        elif isFloat(row.sfh_value):\n",
    "            v=float(row.sfh_value)\n",
    "            pass\n",
    "        elif row.sfh_value.isnumeric():\n",
    "            v=int(row.sfh_value)\n",
    "            pass\n",
    "        else:\n",
    "            v=row.sfh_value\n",
    "        #print(row.key, v) #row.value, row.value.isnumeric(), isFloat(row.value), bool(row.value))\n",
    "        hduHeader[row.sfh_key] = (v, row.sfh_comment)\n",
    "        pass\n",
    "    \n",
    "    return hduHeader\n",
    "\n",
    "retrievedHeader = RetrieveHeader(hduData)\n",
    "retrievedHeader\n",
    "\n",
    "timer.stop()"
   ]
  },
  {
   "cell_type": "code",
   "execution_count": 86,
   "metadata": {},
   "outputs": [],
   "source": [
    "def isFloat(string):\n",
    "    try:\n",
    "        float(string)\n",
    "        return True\n",
    "    except ValueError:\n",
    "        return False\n",
    "    \n",
    "for i in np.arange(len(retrievedHeader)):\n",
    "    try:\n",
    "        newheader[list(retrievedHeader.keys())[i]]\n",
    "        # print(\"Exists!\", list(jheader.keys())[i], jheader[int(i)],  jheader.comments[int(i)])\n",
    "    except Exception as e:\n",
    "        # print(list(header.keys())[i], header[int(i)],  header.comments[int(i)])\n",
    "        jkey = list(retrievedHeader.keys())[i]\n",
    "        \n",
    "        if isFloat(retrievedHeader[int(i)]):\n",
    "            jval=float(retrievedHeader[int(i)])\n",
    "            pass\n",
    "        elif retrievedHeader[int(i)].isnumeric():\n",
    "            jval=int(row.value)\n",
    "            pass\n",
    "        else:\n",
    "            jval = retrievedHeader[int(i)]\n",
    "            \n",
    "        \n",
    "        jcom = retrievedHeader.comments[int(i)]\n",
    "        \n",
    "        newheader[jkey] = (jval, jcom)"
   ]
  },
  {
   "cell_type": "code",
   "execution_count": 87,
   "metadata": {},
   "outputs": [
    {
     "data": {
      "text/plain": [
       "SIMPLE  =                    T / conforms to FITS standard                      \n",
       "BITPIX  =                  -32 / array data type                                \n",
       "NAXIS   =                    4 / number of array dimensions                     \n",
       "NAXIS1  =                  597                                                  \n",
       "NAXIS2  =                  451                                                  \n",
       "NAXIS3  =                    1                                                  \n",
       "NAXIS4  =                    3                                                  \n",
       "EXTEND  =                    T                                                  \n",
       "BSCALE  =                  1.0 / PHYSICAL = PIXEL*BSCALE + BZERO                \n",
       "BZERO   =                  0.0                                                  \n",
       "BUNIT   = 'Jy/beam '           / Brightness (pixel) unit                        \n",
       "EQUINOX =               2000.0                                                  \n",
       "RADESYS = 'FK5     '                                                            \n",
       "LONPOLE =                180.0                                                  \n",
       "LATPOLE =      -44.83073888889                                                  \n",
       "PC01_01 =                  1.0                                                  \n",
       "PC02_01 =                  0.0                                                  \n",
       "PC03_01 =                  0.0                                                  \n",
       "PC04_01 =                  0.0                                                  \n",
       "PC01_02 =                  0.0                                                  \n",
       "PC02_02 =                  1.0                                                  \n",
       "PC03_02 =                  0.0                                                  \n",
       "PC04_02 =                  0.0                                                  \n",
       "PC01_03 =                  0.0                                                  \n",
       "PC02_03 =                  0.0                                                  \n",
       "PC03_03 =                  1.0                                                  \n",
       "PC04_03 =                  0.0                                                  \n",
       "PC01_04 =                  0.0                                                  \n",
       "PC02_04 =                  0.0                                                  \n",
       "PC03_04 =                  0.0                                                  \n",
       "PC04_04 =                  1.0                                                  \n",
       "CTYPE1  = 'RA---SIN'                                                            \n",
       "CRVAL1  =       332.6475708333                                                  \n",
       "CDELT1  =   -0.001111111111111                                                  \n",
       "CRPIX1  =               3175.0                                                  \n",
       "CUNIT1  = 'deg     '                                                            \n",
       "CTYPE2  = 'DEC--SIN'                                                            \n",
       "CRVAL2  =      -44.83073888889                                                  \n",
       "CDELT2  =    0.001111111111111                                                  \n",
       "CRPIX2  =               3252.0                                                  \n",
       "CUNIT2  = 'deg     '                                                            \n",
       "CTYPE3  = 'STOKES  '                                                            \n",
       "CRVAL3  =                  1.0                                                  \n",
       "CDELT3  =                  1.0                                                  \n",
       "CRPIX3  =                  1.0                                                  \n",
       "CUNIT3  = ''                                                                    \n",
       "CTYPE4  = 'FREQ    '                                                            \n",
       "CRVAL4  =       1376500000.056                                                  \n",
       "CDELT4  =       18518.51799989                                                  \n",
       "CRPIX4  =                  1.0                                                  \n",
       "CUNIT4  = 'Hz      '                                                            \n",
       "PV2_1   =                  0.0                                                  \n",
       "PV2_2   =                  0.0                                                  \n",
       "RESTFRQ =       1420405751.786 / Rest Frequency (Hz)                            \n",
       "SPECSYS = 'BARYCENT'           / Spectral reference frame                       \n",
       "ALTRVAL =       9562377.937478 / Alternate frequency reference value            \n",
       "ALTRPIX =                  1.0 / Alternate frequency reference pixel            \n",
       "VELREF  =                  2.0 / 1 LSR, 2 HEL, 3 OBS, +256 Radio                \n",
       "DATE    = '2019-02-04T15:52:09.925000' / Date FITS file was written             \n",
       "TIMESYS = 'UTC     '           / Time system for HDU                            \n",
       "ORIGIN  = 'ASKAPSoft'                                                           \n",
       "TELESCOP= 'ASKAP   '                                                            \n",
       "PROJECT = 'AS035   '                                                            \n",
       "SBID    =               2338.0                                                  \n",
       "DATE-OBS= '2016-10-18T06:21:28.5'                                               \n",
       "DURATION=              43207.2                                                  \n",
       "COMMENT casacore non-standard usage: 4 LSD, 5 GEO, 6 SOU, 7 GAL                 \n",
       "HISTORY Produced with ASKAPsoft version ,                                       "
      ]
     },
     "execution_count": 87,
     "metadata": {},
     "output_type": "execute_result"
    }
   ],
   "source": [
    "newheader"
   ]
  },
  {
   "cell_type": "code",
   "execution_count": 58,
   "metadata": {},
   "outputs": [],
   "source": [
    "raHeaderIndex=ra[0][0][0]\n",
    "decHeaderIndex=declination[0][0][0]\n",
    "freqHeaderIndex=frequencies[0][0][0][0]"
   ]
  },
  {
   "cell_type": "code",
   "execution_count": 67,
   "metadata": {},
   "outputs": [
    {
     "data": {
      "text/plain": [
       "(597, 451, 3, array(3328.01916777), array(1569.38620247), array(0.))"
      ]
     },
     "execution_count": 67,
     "metadata": {},
     "output_type": "execute_result"
    }
   ],
   "source": [
    "len(ra[0][0]), len(declination[0][0]), len(frequencies[0][0]), crpix1, crpix2, crpix3"
   ]
  },
  {
   "cell_type": "code",
   "execution_count": 72,
   "metadata": {},
   "outputs": [
    {
     "data": {
      "text/plain": [
       "(3328.0191677683442, 1569.3862024655527, 0.0, -74330.00208473358)"
      ]
     },
     "execution_count": 72,
     "metadata": {},
     "output_type": "execute_result"
    }
   ],
   "source": [
    "float(crpix1), float(crpix2), float(crpix3), float(crpix4)"
   ]
  },
  {
   "cell_type": "code",
   "execution_count": 88,
   "metadata": {},
   "outputs": [],
   "source": [
    "wcs=WCS(retrievedHeader)\n",
    "crpix1,crpix2,crpix3,crpix4=wcs.wcs_world2pix(raHeaderIndex,decHeaderIndex ,1, freqHeaderIndex,1, ra_dec_order=True)\n",
    "\n",
    "newheader['CRPIX1']=float(crpix1)\n",
    "newheader['CRPIX2']=float(crpix2)\n",
    "newheader['CRPIX3']=float(1.0)\n",
    "newheader['CRPIX4']=float(crpix4)\n",
    "\n",
    "newWCS=WCS(newheader)"
   ]
  },
  {
   "cell_type": "code",
   "execution_count": 89,
   "metadata": {},
   "outputs": [
    {
     "data": {
      "text/plain": [
       "SIMPLE  =                    T / conforms to FITS standard                      \n",
       "BITPIX  =                  -32 / array data type                                \n",
       "NAXIS   =                    4 / number of array dimensions                     \n",
       "NAXIS1  =                  597                                                  \n",
       "NAXIS2  =                  451                                                  \n",
       "NAXIS3  =                    1                                                  \n",
       "NAXIS4  =                    3                                                  \n",
       "EXTEND  =                    T                                                  \n",
       "BSCALE  =                  1.0 / PHYSICAL = PIXEL*BSCALE + BZERO                \n",
       "BZERO   =                  0.0                                                  \n",
       "BUNIT   = 'Jy/beam '           / Brightness (pixel) unit                        \n",
       "EQUINOX =               2000.0                                                  \n",
       "RADESYS = 'FK5     '                                                            \n",
       "LONPOLE =                180.0                                                  \n",
       "LATPOLE =      -44.83073888889                                                  \n",
       "PC01_01 =                  1.0                                                  \n",
       "PC02_01 =                  0.0                                                  \n",
       "PC03_01 =                  0.0                                                  \n",
       "PC04_01 =                  0.0                                                  \n",
       "PC01_02 =                  0.0                                                  \n",
       "PC02_02 =                  1.0                                                  \n",
       "PC03_02 =                  0.0                                                  \n",
       "PC04_02 =                  0.0                                                  \n",
       "PC01_03 =                  0.0                                                  \n",
       "PC02_03 =                  0.0                                                  \n",
       "PC03_03 =                  1.0                                                  \n",
       "PC04_03 =                  0.0                                                  \n",
       "PC01_04 =                  0.0                                                  \n",
       "PC02_04 =                  0.0                                                  \n",
       "PC03_04 =                  0.0                                                  \n",
       "PC04_04 =                  1.0                                                  \n",
       "CTYPE1  = 'RA---SIN'                                                            \n",
       "CRVAL1  =       332.6475708333                                                  \n",
       "CDELT1  =   -0.001111111111111                                                  \n",
       "CRPIX1  =    3328.019167768344                                                  \n",
       "CUNIT1  = 'deg     '                                                            \n",
       "CTYPE2  = 'DEC--SIN'                                                            \n",
       "CRVAL2  =      -44.83073888889                                                  \n",
       "CDELT2  =    0.001111111111111                                                  \n",
       "CRPIX2  =    1569.386202465553                                                  \n",
       "CUNIT2  = 'deg     '                                                            \n",
       "CTYPE3  = 'STOKES  '                                                            \n",
       "CRVAL3  =                  1.0                                                  \n",
       "CDELT3  =                  1.0                                                  \n",
       "CRPIX3  =                  1.0                                                  \n",
       "CUNIT3  = ''                                                                    \n",
       "CTYPE4  = 'FREQ    '                                                            \n",
       "CRVAL4  =       1376500000.056                                                  \n",
       "CDELT4  =       18518.51799989                                                  \n",
       "CRPIX4  =   -74330.00208473358                                                  \n",
       "CUNIT4  = 'Hz      '                                                            \n",
       "PV2_1   =                  0.0                                                  \n",
       "PV2_2   =                  0.0                                                  \n",
       "RESTFRQ =       1420405751.786 / Rest Frequency (Hz)                            \n",
       "SPECSYS = 'BARYCENT'           / Spectral reference frame                       \n",
       "ALTRVAL =       9562377.937478 / Alternate frequency reference value            \n",
       "ALTRPIX =                  1.0 / Alternate frequency reference pixel            \n",
       "VELREF  =                  2.0 / 1 LSR, 2 HEL, 3 OBS, +256 Radio                \n",
       "DATE    = '2019-02-04T15:52:09.925000' / Date FITS file was written             \n",
       "TIMESYS = 'UTC     '           / Time system for HDU                            \n",
       "ORIGIN  = 'ASKAPSoft'                                                           \n",
       "TELESCOP= 'ASKAP   '                                                            \n",
       "PROJECT = 'AS035   '                                                            \n",
       "SBID    =               2338.0                                                  \n",
       "DATE-OBS= '2016-10-18T06:21:28.5'                                               \n",
       "DURATION=              43207.2                                                  \n",
       "COMMENT casacore non-standard usage: 4 LSD, 5 GEO, 6 SOU, 7 GAL                 \n",
       "HISTORY Produced with ASKAPsoft version ,                                       "
      ]
     },
     "execution_count": 89,
     "metadata": {},
     "output_type": "execute_result"
    }
   ],
   "source": [
    "newheader"
   ]
  },
  {
   "cell_type": "code",
   "execution_count": 90,
   "metadata": {},
   "outputs": [
    {
     "data": {
      "text/plain": [
       "WCS Keywords\n",
       "\n",
       "Number of WCS axes: 4\n",
       "CTYPE : 'RA---SIN'  'DEC--SIN'  'STOKES'  'FREQ'  \n",
       "CRVAL : 332.6475708333  -44.83073888889  1.0  1376500000.056  \n",
       "CRPIX : 3328.019167768344  1569.386202465553  1.0  -74330.00208473358  \n",
       "PC1_1 PC1_2 PC1_3 PC1_4  : 1.0  0.0  0.0  0.0  \n",
       "PC2_1 PC2_2 PC2_3 PC2_4  : 0.0  1.0  0.0  0.0  \n",
       "PC3_1 PC3_2 PC3_3 PC3_4  : 0.0  0.0  1.0  0.0  \n",
       "PC4_1 PC4_2 PC4_3 PC4_4  : 0.0  0.0  0.0  1.0  \n",
       "CDELT : -0.001111111111111  0.001111111111111  1.0  18518.51799989  \n",
       "NAXIS : 597  451  1  3"
      ]
     },
     "execution_count": 90,
     "metadata": {},
     "output_type": "execute_result"
    }
   ],
   "source": [
    "newWCS"
   ]
  },
  {
   "cell_type": "code",
   "execution_count": 94,
   "metadata": {},
   "outputs": [
    {
     "data": {
      "text/plain": [
       "SIMPLE  =                    T / conforms to FITS standard                      \n",
       "BITPIX  =                  -32 / array data type                                \n",
       "NAXIS   =                    4 / number of array dimensions                     \n",
       "NAXIS1  =                  597                                                  \n",
       "NAXIS2  =                  451                                                  \n",
       "NAXIS3  =                    1                                                  \n",
       "NAXIS4  =                    3                                                  \n",
       "EXTEND  =                    T                                                  \n",
       "BSCALE  =                  1.0 / PHYSICAL = PIXEL*BSCALE + BZERO                \n",
       "BZERO   =                  0.0                                                  \n",
       "BUNIT   = 'Jy/beam '           / Brightness (pixel) unit                        \n",
       "EQUINOX =               2000.0                                                  \n",
       "RADESYS = 'FK5     '                                                            \n",
       "LONPOLE =                180.0                                                  \n",
       "LATPOLE =      -44.83073888889                                                  \n",
       "PC01_01 =                  1.0                                                  \n",
       "PC02_01 =                  0.0                                                  \n",
       "PC03_01 =                  0.0                                                  \n",
       "PC04_01 =                  0.0                                                  \n",
       "PC01_02 =                  0.0                                                  \n",
       "PC02_02 =                  1.0                                                  \n",
       "PC03_02 =                  0.0                                                  \n",
       "PC04_02 =                  0.0                                                  \n",
       "PC01_03 =                  0.0                                                  \n",
       "PC02_03 =                  0.0                                                  \n",
       "PC03_03 =                  1.0                                                  \n",
       "PC04_03 =                  0.0                                                  \n",
       "PC01_04 =                  0.0                                                  \n",
       "PC02_04 =                  0.0                                                  \n",
       "PC03_04 =                  0.0                                                  \n",
       "PC04_04 =                  1.0                                                  \n",
       "CTYPE1  = 'RA---SIN'                                                            \n",
       "CRVAL1  =       332.6475708333                                                  \n",
       "CDELT1  =   -0.001111111111111                                                  \n",
       "CRPIX1  =    3328.019167768344                                                  \n",
       "CUNIT1  = 'deg     '                                                            \n",
       "CTYPE2  = 'DEC--SIN'                                                            \n",
       "CRVAL2  =      -44.83073888889                                                  \n",
       "CDELT2  =    0.001111111111111                                                  \n",
       "CRPIX2  =    1569.386202465553                                                  \n",
       "CUNIT2  = 'deg     '                                                            \n",
       "CTYPE3  = 'STOKES  '                                                            \n",
       "CRVAL3  =                  1.0                                                  \n",
       "CDELT3  =                  1.0                                                  \n",
       "CRPIX3  =                  1.0                                                  \n",
       "CUNIT3  = ''                                                                    \n",
       "CTYPE4  = 'FREQ    '                                                            \n",
       "CRVAL4  =       1376500000.056                                                  \n",
       "CDELT4  =       18518.51799989                                                  \n",
       "CRPIX4  =   -74330.00208473358                                                  \n",
       "CUNIT4  = 'Hz      '                                                            \n",
       "PV2_1   =                  0.0                                                  \n",
       "PV2_2   =                  0.0                                                  \n",
       "RESTFRQ =       1420405751.786 / Rest Frequency (Hz)                            \n",
       "SPECSYS = 'BARYCENT'           / Spectral reference frame                       \n",
       "ALTRVAL =       9562377.937478 / Alternate frequency reference value            \n",
       "ALTRPIX =                  1.0 / Alternate frequency reference pixel            \n",
       "VELREF  =                  2.0 / 1 LSR, 2 HEL, 3 OBS, +256 Radio                \n",
       "DATE    = '2019-02-04T15:52:09.925000' / Date FITS file was written             \n",
       "TIMESYS = 'UTC     '           / Time system for HDU                            \n",
       "ORIGIN  = 'ASKAPSoft'                                                           \n",
       "TELESCOP= 'ASKAP   '                                                            \n",
       "PROJECT = 'AS035   '                                                            \n",
       "SBID    =               2338.0                                                  \n",
       "DATE-OBS= '2016-10-18T06:21:28.5'                                               \n",
       "DURATION=              43207.2                                                  \n",
       "COMMENT casacore non-standard usage: 4 LSD, 5 GEO, 6 SOU, 7 GAL                 \n",
       "HISTORY Produced with ASKAPsoft version ,                                       "
      ]
     },
     "execution_count": 94,
     "metadata": {},
     "output_type": "execute_result"
    }
   ],
   "source": [
    "newhdu.header"
   ]
  },
  {
   "cell_type": "code",
   "execution_count": 96,
   "metadata": {},
   "outputs": [
    {
     "data": {
      "text/plain": [
       "<astropy.io.fits.hdu.image.PrimaryHDU at 0x7f2a53f86b00>"
      ]
     },
     "execution_count": 96,
     "metadata": {},
     "output_type": "execute_result"
    }
   ],
   "source": [
    "newhdu"
   ]
  },
  {
   "cell_type": "code",
   "execution_count": null,
   "metadata": {},
   "outputs": [],
   "source": []
  }
 ],
 "metadata": {
  "kernelspec": {
   "display_name": "pySpark Elephas and SparkFits (Spark 2.3.0, python 3.6, increased resources)",
   "language": "python",
   "name": "sparkfits"
  },
  "language_info": {
   "codemirror_mode": {
    "name": "ipython",
    "version": 3
   },
   "file_extension": ".py",
   "mimetype": "text/x-python",
   "name": "python",
   "nbconvert_exporter": "python",
   "pygments_lexer": "ipython3",
   "version": "3.6.8"
  }
 },
 "nbformat": 4,
 "nbformat_minor": 2
}
